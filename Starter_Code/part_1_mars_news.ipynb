{
 "cells": [
  {
   "cell_type": "markdown",
   "metadata": {},
   "source": [
    "# Module 12 Challenge\n",
    "## Deliverable 1: Scrape Titles and Preview Text from Mars News"
   ]
  },
  {
   "cell_type": "code",
   "execution_count": 1,
   "metadata": {},
   "outputs": [],
   "source": [
    "# Import Splinter and BeautifulSoup\n",
    "from splinter import Browser\n",
    "from bs4 import BeautifulSoup\n",
    "import requests\n",
    "\n"
   ]
  },
  {
   "cell_type": "code",
   "execution_count": 2,
   "metadata": {
    "scrolled": true
   },
   "outputs": [],
   "source": [
    "browser = Browser('chrome')"
   ]
  },
  {
   "cell_type": "markdown",
   "metadata": {},
   "source": [
    "### Step 1: Visit the Website\n",
    "\n",
    "1. Use automated browsing to visit the [Mars news site](https://static.bc-edx.com/data/web/mars_news/index.html). Inspect the page to identify which elements to scrape.\n",
    "\n",
    "      > **Hint** To identify which elements to scrape, you might want to inspect the page by using Chrome DevTools."
   ]
  },
  {
   "cell_type": "code",
   "execution_count": 3,
   "metadata": {},
   "outputs": [],
   "source": [
    "# Visit the Mars news site\n",
    "url = 'https://static.bc-edx.com/data/web/mars_news/index.html'\n",
    "\n",
    "#use the browser to visit the site\n",
    "browser.visit(url)"
   ]
  },
  {
   "cell_type": "code",
   "execution_count": 4,
   "metadata": {},
   "outputs": [],
   "source": [
    "# Request to website and download HTML contents\n",
    "\n",
    "req=requests.get(url)\n",
    "content=req.text"
   ]
  },
  {
   "cell_type": "code",
   "execution_count": 5,
   "metadata": {},
   "outputs": [],
   "source": [
    "html = browser.html"
   ]
  },
  {
   "cell_type": "code",
   "execution_count": 6,
   "metadata": {},
   "outputs": [],
   "source": [
    "#parse HTML content\n",
    "soup = BeautifulSoup(content, \"html.parser\")"
   ]
  },
  {
   "cell_type": "code",
   "execution_count": 7,
   "metadata": {},
   "outputs": [],
   "source": [
    "#print the parsed data from HTML\n",
    "#print(soup.prettify())"
   ]
  },
  {
   "cell_type": "markdown",
   "metadata": {},
   "source": [
    "### Step 2: Scrape the Website\n",
    "\n",
    "Create a Beautiful Soup object and use it to extract text elements from the website."
   ]
  },
  {
   "cell_type": "code",
   "execution_count": 207,
   "metadata": {},
   "outputs": [
    {
     "name": "stdout",
     "output_type": "stream",
     "text": [
      "<title>News - Mars Exploration Program</title>\n"
     ]
    }
   ],
   "source": [
    "#Create a beautiful Soup object\n",
    "print(soup.title)"
   ]
  },
  {
   "cell_type": "code",
   "execution_count": 208,
   "metadata": {},
   "outputs": [
    {
     "name": "stdout",
     "output_type": "stream",
     "text": [
      "News - Mars Exploration Program\n"
     ]
    }
   ],
   "source": [
    "#remove the <title>\n",
    "print(soup.title.text)"
   ]
  },
  {
   "cell_type": "code",
   "execution_count": 209,
   "metadata": {
    "scrolled": false
   },
   "outputs": [],
   "source": [
    "# Extract all the text elements\n",
    "content_all = soup.find_all('div', class_='col-md-8')\n"
   ]
  },
  {
   "cell_type": "markdown",
   "metadata": {},
   "source": [
    "### Step 3: Store the Results\n",
    "\n",
    "Extract the titles and preview text of the news articles that you scraped. Store the scraping results in Python data structures as follows:\n",
    "\n",
    "* Store each title-and-preview pair in a Python dictionary. And, give each dictionary two keys: `title` and `preview`. An example is the following:\n",
    "\n",
    "  ```python\n",
    "  {'title': \"NASA's MAVEN Observes Martian Light Show Caused by Major Solar Storm\", \n",
    "   'preview': \"For the first time in its eight years orbiting Mars, NASA’s MAVEN mission witnessed two different types of ultraviolet aurorae simultaneously, the result of solar storms that began on Aug. 27.\"\n",
    "  }\n",
    "  ```\n",
    "\n",
    "* Store all the dictionaries in a Python list.\n",
    "\n",
    "* Print the list in your notebook."
   ]
  },
  {
   "cell_type": "code",
   "execution_count": 210,
   "metadata": {},
   "outputs": [],
   "source": [
    "# Create an empty list to store the dictionaries\n",
    "mars_list = []"
   ]
  },
  {
   "cell_type": "code",
   "execution_count": 211,
   "metadata": {},
   "outputs": [
    {
     "name": "stdout",
     "output_type": "stream",
     "text": [
      "{'Title: Curiosity Mars Rover Reaches Long-Awaited Salty Region', \"Title: NASA's InSight Waits Out Dust Storm\", \"Title: 10 Years Since Landing, NASA's Curiosity Mars Rover Still Has Drive\", 'Title: NASA To Host Briefing on InSight, Mars Reconnaissance Orbiter Findings', \"Title: NASA's InSight 'Hears' Its First Meteoroid Impacts on Mars\", 'Title: NASA and ESA Agree on Next Steps to Return Mars Samples to Earth', \"Title: NASA Prepares to Say 'Farewell' to InSight Spacecraft\", \"Title: NASA's InSight Lander Detects Stunning Meteoroid Impact on Mars\", 'Title: NASA to Host Briefing on Perseverance Mars Rover Mission Operations', 'Title: Why NASA Is Trying To Crash Land on Mars', 'Title: Mars Mission Shields Up for Tests', \"Title: NASA's Perseverance Makes New Discoveries in Mars' Jezero Crater\", \"Title: SAM's Top 5 Discoveries Aboard NASA's Curiosity Rover at Mars\", \"Title: NASA's MAVEN Observes Martian Light Show Caused by Major Solar Storm\", \"Title: NASA's Perseverance Rover Investigates Geologically Rich Mars Terrain\"}\n"
     ]
    }
   ],
   "source": [
    "# Loop through the text elements\n",
    "# Extract the title and preview text from the elements\n",
    "# Store each title and preview pair in a dictionary\n",
    "\n",
    "\n",
    "for title in content_all:\n",
    "    m_title = {'Title: ' + title.find(class_='content_title').text \n",
    "               for title in content_all}\n",
    "  \n",
    "print(m_title)"
   ]
  },
  {
   "cell_type": "code",
   "execution_count": 212,
   "metadata": {},
   "outputs": [
    {
     "name": "stdout",
     "output_type": "stream",
     "text": [
      "{'Preview: The latest findings provide greater detail on a region of the Red Planet that has a watery past and is yielding promising samples for the NASA-ESA Mars Sample Return campaign.', 'Preview: Despite signs of wear, the intrepid spacecraft is about to start an exciting new chapter of its mission as it climbs a Martian mountain.', 'Preview: InSightâ\\x80\\x99s team is taking steps to help the solar-powered lander continue operating for as long as possible.', 'Preview: After years of climbing, the Mars rover has arrived at a special region believed to have formed as Marsâ\\x80\\x99 climate was drying.', 'Preview: â\\x80\\x9cSelfieâ\\x80\\x9d of the Curiosity rover with inset showing the SAM instrument prior to installation on the rover.', 'Preview: The Mars landerâ\\x80\\x99s seismometer has picked up vibrations from four separate impacts in the past two years.', 'Preview: Protecting Mars Sample Return spacecraft from micrometeorites requires high-caliber work.', 'Preview: A closer look at what goes into wrapping up the mission as the spacecraftâ\\x80\\x99s power supply continues to dwindle.', 'Preview: For the first time in its eight years orbiting Mars, NASAâ\\x80\\x99s MAVEN mission witnessed two different types of ultraviolet aurorae simultaneously, the result of solar storms that began on Aug. 27.', 'Preview: Scientists from two Mars missions will discuss how they combined images and data for a major finding on the Red Planet.', 'Preview: The agencyâ\\x80\\x99s Perseverance rover will establish the first sample depot on Mars.', 'Preview: The agencyâ\\x80\\x99s lander felt the ground shake during the impact while cameras aboard the Mars Reconnaissance Orbiter spotted the yawning new crater from space.', 'Preview: Members of the mission will discuss the roverâ\\x80\\x99s activities as it gathers samples in an ancient river delta.', 'Preview: Like a carâ\\x80\\x99s crumple zone, the experimental SHIELD lander is designed to absorb a hard impact.', 'Preview: The rover found that Jezero Craterâ\\x80\\x99s floor is made up of volcanic rocks that have interacted with water.'}\n"
     ]
    }
   ],
   "source": [
    "for preview in content_all:\n",
    "    m_preview = {'Preview: ' + preview.find(class_='article_teaser_body').text \n",
    "                 for preview in content_all}\n",
    "print(m_preview)\n",
    "    "
   ]
  },
  {
   "cell_type": "code",
   "execution_count": 230,
   "metadata": {},
   "outputs": [
    {
     "data": {
      "text/plain": [
       "[{'Title: Curiosity Mars Rover Reaches Long-Awaited Salty Region': 'Preview: The latest findings provide greater detail on a region of the Red Planet that has a watery past and is yielding promising samples for the NASA-ESA Mars Sample Return campaign.',\n",
       "  \"Title: NASA's InSight Waits Out Dust Storm\": 'Preview: Despite signs of wear, the intrepid spacecraft is about to start an exciting new chapter of its mission as it climbs a Martian mountain.',\n",
       "  \"Title: 10 Years Since Landing, NASA's Curiosity Mars Rover Still Has Drive\": 'Preview: InSightâ\\x80\\x99s team is taking steps to help the solar-powered lander continue operating for as long as possible.',\n",
       "  'Title: NASA To Host Briefing on InSight, Mars Reconnaissance Orbiter Findings': 'Preview: After years of climbing, the Mars rover has arrived at a special region believed to have formed as Marsâ\\x80\\x99 climate was drying.',\n",
       "  \"Title: NASA's InSight 'Hears' Its First Meteoroid Impacts on Mars\": 'Preview: â\\x80\\x9cSelfieâ\\x80\\x9d of the Curiosity rover with inset showing the SAM instrument prior to installation on the rover.',\n",
       "  'Title: NASA and ESA Agree on Next Steps to Return Mars Samples to Earth': 'Preview: The Mars landerâ\\x80\\x99s seismometer has picked up vibrations from four separate impacts in the past two years.',\n",
       "  \"Title: NASA Prepares to Say 'Farewell' to InSight Spacecraft\": 'Preview: Protecting Mars Sample Return spacecraft from micrometeorites requires high-caliber work.',\n",
       "  \"Title: NASA's InSight Lander Detects Stunning Meteoroid Impact on Mars\": 'Preview: A closer look at what goes into wrapping up the mission as the spacecraftâ\\x80\\x99s power supply continues to dwindle.',\n",
       "  'Title: NASA to Host Briefing on Perseverance Mars Rover Mission Operations': 'Preview: For the first time in its eight years orbiting Mars, NASAâ\\x80\\x99s MAVEN mission witnessed two different types of ultraviolet aurorae simultaneously, the result of solar storms that began on Aug. 27.',\n",
       "  'Title: Why NASA Is Trying To Crash Land on Mars': 'Preview: Scientists from two Mars missions will discuss how they combined images and data for a major finding on the Red Planet.',\n",
       "  'Title: Mars Mission Shields Up for Tests': 'Preview: The agencyâ\\x80\\x99s Perseverance rover will establish the first sample depot on Mars.',\n",
       "  \"Title: NASA's Perseverance Makes New Discoveries in Mars' Jezero Crater\": 'Preview: The agencyâ\\x80\\x99s lander felt the ground shake during the impact while cameras aboard the Mars Reconnaissance Orbiter spotted the yawning new crater from space.',\n",
       "  \"Title: SAM's Top 5 Discoveries Aboard NASA's Curiosity Rover at Mars\": 'Preview: Members of the mission will discuss the roverâ\\x80\\x99s activities as it gathers samples in an ancient river delta.',\n",
       "  \"Title: NASA's MAVEN Observes Martian Light Show Caused by Major Solar Storm\": 'Preview: Like a carâ\\x80\\x99s crumple zone, the experimental SHIELD lander is designed to absorb a hard impact.',\n",
       "  \"Title: NASA's Perseverance Rover Investigates Geologically Rich Mars Terrain\": 'Preview: The rover found that Jezero Craterâ\\x80\\x99s floor is made up of volcanic rocks that have interacted with water.'}]"
      ]
     },
     "execution_count": 230,
     "metadata": {},
     "output_type": "execute_result"
    }
   ],
   "source": [
    "#zip both dictionairies inot the Mars list.  \n",
    "#reference https://www.geeksforgeeks.org/appending-a-dictionary-to-a-list-in-python/\n",
    "\n",
    "mars_list = [dict(zip(m_title,m_preview))]\n",
    "mars_list"
   ]
  },
  {
   "cell_type": "code",
   "execution_count": 214,
   "metadata": {},
   "outputs": [],
   "source": [
    "#quit Browser\n",
    "\n",
    "browser.quit()\n"
   ]
  },
  {
   "cell_type": "code",
   "execution_count": null,
   "metadata": {},
   "outputs": [],
   "source": []
  }
 ],
 "metadata": {
  "kernelspec": {
   "display_name": "Python 3 (ipykernel)",
   "language": "python",
   "name": "python3"
  },
  "language_info": {
   "codemirror_mode": {
    "name": "ipython",
    "version": 3
   },
   "file_extension": ".py",
   "mimetype": "text/x-python",
   "name": "python",
   "nbconvert_exporter": "python",
   "pygments_lexer": "ipython3",
   "version": "3.10.11"
  },
  "vscode": {
   "interpreter": {
    "hash": "31f2aee4e71d21fbe5cf8b01ff0e069b9275f58929596ceb00d14d90e3e16cd6"
   }
  }
 },
 "nbformat": 4,
 "nbformat_minor": 4
}
